{
 "cells": [
  {
   "cell_type": "markdown",
   "id": "b8ceec2a-cdf3-46c2-a6cf-2ad1d859f6bc",
   "metadata": {},
   "source": [
    "## E-commerce Customer Data For Behavior Analysis"
   ]
  },
  {
   "cell_type": "code",
   "execution_count": null,
   "id": "3ffd3b57-ad57-41ac-ad4c-3152120a094d",
   "metadata": {},
   "outputs": [],
   "source": []
  },
  {
   "cell_type": "code",
   "execution_count": 1,
   "id": "6634e57b-7a97-4d92-8a15-90028abc5f08",
   "metadata": {},
   "outputs": [],
   "source": [
    "import pandas as pd\n",
    "import numpy as np\n",
    "import matplotlib.pyplot as plt              \n",
    "import seaborn as sns"
   ]
  },
  {
   "cell_type": "code",
   "execution_count": null,
   "id": "beb84420-fa43-4c85-9904-1105dab8d0f1",
   "metadata": {},
   "outputs": [],
   "source": []
  },
  {
   "cell_type": "code",
   "execution_count": 2,
   "id": "79753e89-faa8-4616-a854-18337206dd51",
   "metadata": {},
   "outputs": [],
   "source": [
    "E = pd.read_csv(\"ecommerce_customer_data_custom_ratios.csv\")"
   ]
  },
  {
   "cell_type": "code",
   "execution_count": null,
   "id": "b132db00-3f81-4dbf-b1b0-8f678b1a01fd",
   "metadata": {},
   "outputs": [],
   "source": []
  },
  {
   "cell_type": "code",
   "execution_count": 3,
   "id": "e23f6084-c521-4bce-97fa-691edc06c5f7",
   "metadata": {},
   "outputs": [
    {
     "data": {
      "text/html": [
       "<div>\n",
       "<style scoped>\n",
       "    .dataframe tbody tr th:only-of-type {\n",
       "        vertical-align: middle;\n",
       "    }\n",
       "\n",
       "    .dataframe tbody tr th {\n",
       "        vertical-align: top;\n",
       "    }\n",
       "\n",
       "    .dataframe thead th {\n",
       "        text-align: right;\n",
       "    }\n",
       "</style>\n",
       "<table border=\"1\" class=\"dataframe\">\n",
       "  <thead>\n",
       "    <tr style=\"text-align: right;\">\n",
       "      <th></th>\n",
       "      <th>Customer ID</th>\n",
       "      <th>Purchase Date</th>\n",
       "      <th>Product Category</th>\n",
       "      <th>Product Price</th>\n",
       "      <th>Quantity</th>\n",
       "      <th>Total Purchase Amount</th>\n",
       "      <th>Payment Method</th>\n",
       "      <th>Customer Age</th>\n",
       "      <th>Returns</th>\n",
       "      <th>Customer Name</th>\n",
       "      <th>Age</th>\n",
       "      <th>Gender</th>\n",
       "      <th>Churn</th>\n",
       "    </tr>\n",
       "  </thead>\n",
       "  <tbody>\n",
       "    <tr>\n",
       "      <th>0</th>\n",
       "      <td>46251</td>\n",
       "      <td>2020-09-08 09:38:32</td>\n",
       "      <td>Electronics</td>\n",
       "      <td>12</td>\n",
       "      <td>3</td>\n",
       "      <td>740</td>\n",
       "      <td>Credit Card</td>\n",
       "      <td>37</td>\n",
       "      <td>0.0</td>\n",
       "      <td>Christine Hernandez</td>\n",
       "      <td>37</td>\n",
       "      <td>Male</td>\n",
       "      <td>0</td>\n",
       "    </tr>\n",
       "    <tr>\n",
       "      <th>1</th>\n",
       "      <td>46251</td>\n",
       "      <td>2022-03-05 12:56:35</td>\n",
       "      <td>Home</td>\n",
       "      <td>468</td>\n",
       "      <td>4</td>\n",
       "      <td>2739</td>\n",
       "      <td>PayPal</td>\n",
       "      <td>37</td>\n",
       "      <td>0.0</td>\n",
       "      <td>Christine Hernandez</td>\n",
       "      <td>37</td>\n",
       "      <td>Male</td>\n",
       "      <td>0</td>\n",
       "    </tr>\n",
       "    <tr>\n",
       "      <th>2</th>\n",
       "      <td>46251</td>\n",
       "      <td>2022-05-23 18:18:01</td>\n",
       "      <td>Home</td>\n",
       "      <td>288</td>\n",
       "      <td>2</td>\n",
       "      <td>3196</td>\n",
       "      <td>PayPal</td>\n",
       "      <td>37</td>\n",
       "      <td>0.0</td>\n",
       "      <td>Christine Hernandez</td>\n",
       "      <td>37</td>\n",
       "      <td>Male</td>\n",
       "      <td>0</td>\n",
       "    </tr>\n",
       "    <tr>\n",
       "      <th>3</th>\n",
       "      <td>46251</td>\n",
       "      <td>2020-11-12 13:13:29</td>\n",
       "      <td>Clothing</td>\n",
       "      <td>196</td>\n",
       "      <td>1</td>\n",
       "      <td>3509</td>\n",
       "      <td>PayPal</td>\n",
       "      <td>37</td>\n",
       "      <td>0.0</td>\n",
       "      <td>Christine Hernandez</td>\n",
       "      <td>37</td>\n",
       "      <td>Male</td>\n",
       "      <td>0</td>\n",
       "    </tr>\n",
       "    <tr>\n",
       "      <th>4</th>\n",
       "      <td>13593</td>\n",
       "      <td>2020-11-27 17:55:11</td>\n",
       "      <td>Home</td>\n",
       "      <td>449</td>\n",
       "      <td>1</td>\n",
       "      <td>3452</td>\n",
       "      <td>Credit Card</td>\n",
       "      <td>49</td>\n",
       "      <td>0.0</td>\n",
       "      <td>James Grant</td>\n",
       "      <td>49</td>\n",
       "      <td>Female</td>\n",
       "      <td>1</td>\n",
       "    </tr>\n",
       "  </tbody>\n",
       "</table>\n",
       "</div>"
      ],
      "text/plain": [
       "   Customer ID        Purchase Date Product Category  Product Price  Quantity  \\\n",
       "0        46251  2020-09-08 09:38:32      Electronics             12         3   \n",
       "1        46251  2022-03-05 12:56:35             Home            468         4   \n",
       "2        46251  2022-05-23 18:18:01             Home            288         2   \n",
       "3        46251  2020-11-12 13:13:29         Clothing            196         1   \n",
       "4        13593  2020-11-27 17:55:11             Home            449         1   \n",
       "\n",
       "   Total Purchase Amount Payment Method  Customer Age  Returns  \\\n",
       "0                    740    Credit Card            37      0.0   \n",
       "1                   2739         PayPal            37      0.0   \n",
       "2                   3196         PayPal            37      0.0   \n",
       "3                   3509         PayPal            37      0.0   \n",
       "4                   3452    Credit Card            49      0.0   \n",
       "\n",
       "         Customer Name  Age  Gender  Churn  \n",
       "0  Christine Hernandez   37    Male      0  \n",
       "1  Christine Hernandez   37    Male      0  \n",
       "2  Christine Hernandez   37    Male      0  \n",
       "3  Christine Hernandez   37    Male      0  \n",
       "4          James Grant   49  Female      1  "
      ]
     },
     "execution_count": 3,
     "metadata": {},
     "output_type": "execute_result"
    }
   ],
   "source": [
    "E.head()"
   ]
  },
  {
   "cell_type": "code",
   "execution_count": null,
   "id": "a5d3c658-dacd-4036-9c13-bbc15ce31b3b",
   "metadata": {},
   "outputs": [],
   "source": []
  },
  {
   "cell_type": "code",
   "execution_count": null,
   "id": "21d5115c-8c7c-4fa0-a1c9-a60c9e5a1b9d",
   "metadata": {},
   "outputs": [],
   "source": []
  },
  {
   "cell_type": "code",
   "execution_count": 7,
   "id": "09058c4c-70f6-4144-a485-7845623ba79e",
   "metadata": {},
   "outputs": [
    {
     "data": {
      "text/html": [
       "<div>\n",
       "<style scoped>\n",
       "    .dataframe tbody tr th:only-of-type {\n",
       "        vertical-align: middle;\n",
       "    }\n",
       "\n",
       "    .dataframe tbody tr th {\n",
       "        vertical-align: top;\n",
       "    }\n",
       "\n",
       "    .dataframe thead th {\n",
       "        text-align: right;\n",
       "    }\n",
       "</style>\n",
       "<table border=\"1\" class=\"dataframe\">\n",
       "  <thead>\n",
       "    <tr style=\"text-align: right;\">\n",
       "      <th></th>\n",
       "      <th>Customer ID</th>\n",
       "      <th>Purchase Date</th>\n",
       "      <th>Product Category</th>\n",
       "      <th>Product Price</th>\n",
       "      <th>Quantity</th>\n",
       "      <th>Total Purchase Amount</th>\n",
       "      <th>Payment Method</th>\n",
       "      <th>Customer Age</th>\n",
       "      <th>Returns</th>\n",
       "      <th>Customer Name</th>\n",
       "      <th>Age</th>\n",
       "      <th>Gender</th>\n",
       "      <th>Churn</th>\n",
       "    </tr>\n",
       "  </thead>\n",
       "  <tbody>\n",
       "    <tr>\n",
       "      <th>249995</th>\n",
       "      <td>33308</td>\n",
       "      <td>2023-08-10 13:39:06</td>\n",
       "      <td>Clothing</td>\n",
       "      <td>279</td>\n",
       "      <td>2</td>\n",
       "      <td>2187</td>\n",
       "      <td>PayPal</td>\n",
       "      <td>55</td>\n",
       "      <td>1.0</td>\n",
       "      <td>Michelle Flores</td>\n",
       "      <td>55</td>\n",
       "      <td>Male</td>\n",
       "      <td>1</td>\n",
       "    </tr>\n",
       "    <tr>\n",
       "      <th>249996</th>\n",
       "      <td>48835</td>\n",
       "      <td>2021-11-23 01:30:42</td>\n",
       "      <td>Home</td>\n",
       "      <td>27</td>\n",
       "      <td>1</td>\n",
       "      <td>3615</td>\n",
       "      <td>Credit Card</td>\n",
       "      <td>42</td>\n",
       "      <td>1.0</td>\n",
       "      <td>Jeremy Rush</td>\n",
       "      <td>42</td>\n",
       "      <td>Female</td>\n",
       "      <td>1</td>\n",
       "    </tr>\n",
       "    <tr>\n",
       "      <th>249997</th>\n",
       "      <td>21019</td>\n",
       "      <td>2020-07-02 14:04:48</td>\n",
       "      <td>Home</td>\n",
       "      <td>17</td>\n",
       "      <td>5</td>\n",
       "      <td>2466</td>\n",
       "      <td>Cash</td>\n",
       "      <td>41</td>\n",
       "      <td>0.0</td>\n",
       "      <td>Tina Craig</td>\n",
       "      <td>41</td>\n",
       "      <td>Male</td>\n",
       "      <td>0</td>\n",
       "    </tr>\n",
       "    <tr>\n",
       "      <th>249998</th>\n",
       "      <td>49234</td>\n",
       "      <td>2020-12-30 02:02:40</td>\n",
       "      <td>Books</td>\n",
       "      <td>398</td>\n",
       "      <td>2</td>\n",
       "      <td>3668</td>\n",
       "      <td>Crypto</td>\n",
       "      <td>34</td>\n",
       "      <td>0.0</td>\n",
       "      <td>Jennifer Cooper</td>\n",
       "      <td>34</td>\n",
       "      <td>Female</td>\n",
       "      <td>1</td>\n",
       "    </tr>\n",
       "    <tr>\n",
       "      <th>249999</th>\n",
       "      <td>16971</td>\n",
       "      <td>2021-03-13 16:28:35</td>\n",
       "      <td>Electronics</td>\n",
       "      <td>425</td>\n",
       "      <td>4</td>\n",
       "      <td>2370</td>\n",
       "      <td>Cash</td>\n",
       "      <td>36</td>\n",
       "      <td>1.0</td>\n",
       "      <td>Justin Lawson</td>\n",
       "      <td>36</td>\n",
       "      <td>Female</td>\n",
       "      <td>1</td>\n",
       "    </tr>\n",
       "  </tbody>\n",
       "</table>\n",
       "</div>"
      ],
      "text/plain": [
       "        Customer ID        Purchase Date Product Category  Product Price  \\\n",
       "249995        33308  2023-08-10 13:39:06         Clothing            279   \n",
       "249996        48835  2021-11-23 01:30:42             Home             27   \n",
       "249997        21019  2020-07-02 14:04:48             Home             17   \n",
       "249998        49234  2020-12-30 02:02:40            Books            398   \n",
       "249999        16971  2021-03-13 16:28:35      Electronics            425   \n",
       "\n",
       "        Quantity  Total Purchase Amount Payment Method  Customer Age  Returns  \\\n",
       "249995         2                   2187         PayPal            55      1.0   \n",
       "249996         1                   3615    Credit Card            42      1.0   \n",
       "249997         5                   2466           Cash            41      0.0   \n",
       "249998         2                   3668         Crypto            34      0.0   \n",
       "249999         4                   2370           Cash            36      1.0   \n",
       "\n",
       "          Customer Name  Age  Gender  Churn  \n",
       "249995  Michelle Flores   55    Male      1  \n",
       "249996      Jeremy Rush   42  Female      1  \n",
       "249997       Tina Craig   41    Male      0  \n",
       "249998  Jennifer Cooper   34  Female      1  \n",
       "249999    Justin Lawson   36  Female      1  "
      ]
     },
     "execution_count": 7,
     "metadata": {},
     "output_type": "execute_result"
    }
   ],
   "source": [
    "E.tail()\n"
   ]
  },
  {
   "cell_type": "code",
   "execution_count": 9,
   "id": "d2378d40-4a20-455f-bfd5-a9564ed3325d",
   "metadata": {},
   "outputs": [
    {
     "data": {
      "text/html": [
       "<div>\n",
       "<style scoped>\n",
       "    .dataframe tbody tr th:only-of-type {\n",
       "        vertical-align: middle;\n",
       "    }\n",
       "\n",
       "    .dataframe tbody tr th {\n",
       "        vertical-align: top;\n",
       "    }\n",
       "\n",
       "    .dataframe thead th {\n",
       "        text-align: right;\n",
       "    }\n",
       "</style>\n",
       "<table border=\"1\" class=\"dataframe\">\n",
       "  <thead>\n",
       "    <tr style=\"text-align: right;\">\n",
       "      <th></th>\n",
       "      <th>Customer ID</th>\n",
       "      <th>Product Price</th>\n",
       "      <th>Quantity</th>\n",
       "      <th>Total Purchase Amount</th>\n",
       "      <th>Customer Age</th>\n",
       "      <th>Returns</th>\n",
       "      <th>Age</th>\n",
       "      <th>Churn</th>\n",
       "    </tr>\n",
       "  </thead>\n",
       "  <tbody>\n",
       "    <tr>\n",
       "      <th>count</th>\n",
       "      <td>250000.00000</td>\n",
       "      <td>250000.000000</td>\n",
       "      <td>250000.000000</td>\n",
       "      <td>250000.000000</td>\n",
       "      <td>250000.000000</td>\n",
       "      <td>202404.000000</td>\n",
       "      <td>250000.000000</td>\n",
       "      <td>250000.000000</td>\n",
       "    </tr>\n",
       "    <tr>\n",
       "      <th>mean</th>\n",
       "      <td>25004.03624</td>\n",
       "      <td>254.659512</td>\n",
       "      <td>2.998896</td>\n",
       "      <td>2725.370732</td>\n",
       "      <td>43.940528</td>\n",
       "      <td>0.497861</td>\n",
       "      <td>43.940528</td>\n",
       "      <td>0.199496</td>\n",
       "    </tr>\n",
       "    <tr>\n",
       "      <th>std</th>\n",
       "      <td>14428.27959</td>\n",
       "      <td>141.568577</td>\n",
       "      <td>1.414694</td>\n",
       "      <td>1442.933565</td>\n",
       "      <td>15.350246</td>\n",
       "      <td>0.499997</td>\n",
       "      <td>15.350246</td>\n",
       "      <td>0.399622</td>\n",
       "    </tr>\n",
       "    <tr>\n",
       "      <th>min</th>\n",
       "      <td>1.00000</td>\n",
       "      <td>10.000000</td>\n",
       "      <td>1.000000</td>\n",
       "      <td>100.000000</td>\n",
       "      <td>18.000000</td>\n",
       "      <td>0.000000</td>\n",
       "      <td>18.000000</td>\n",
       "      <td>0.000000</td>\n",
       "    </tr>\n",
       "    <tr>\n",
       "      <th>25%</th>\n",
       "      <td>12497.75000</td>\n",
       "      <td>132.000000</td>\n",
       "      <td>2.000000</td>\n",
       "      <td>1477.000000</td>\n",
       "      <td>31.000000</td>\n",
       "      <td>0.000000</td>\n",
       "      <td>31.000000</td>\n",
       "      <td>0.000000</td>\n",
       "    </tr>\n",
       "    <tr>\n",
       "      <th>50%</th>\n",
       "      <td>25018.00000</td>\n",
       "      <td>255.000000</td>\n",
       "      <td>3.000000</td>\n",
       "      <td>2724.000000</td>\n",
       "      <td>44.000000</td>\n",
       "      <td>0.000000</td>\n",
       "      <td>44.000000</td>\n",
       "      <td>0.000000</td>\n",
       "    </tr>\n",
       "    <tr>\n",
       "      <th>75%</th>\n",
       "      <td>37506.00000</td>\n",
       "      <td>377.000000</td>\n",
       "      <td>4.000000</td>\n",
       "      <td>3974.000000</td>\n",
       "      <td>57.000000</td>\n",
       "      <td>1.000000</td>\n",
       "      <td>57.000000</td>\n",
       "      <td>0.000000</td>\n",
       "    </tr>\n",
       "    <tr>\n",
       "      <th>max</th>\n",
       "      <td>50000.00000</td>\n",
       "      <td>500.000000</td>\n",
       "      <td>5.000000</td>\n",
       "      <td>5350.000000</td>\n",
       "      <td>70.000000</td>\n",
       "      <td>1.000000</td>\n",
       "      <td>70.000000</td>\n",
       "      <td>1.000000</td>\n",
       "    </tr>\n",
       "  </tbody>\n",
       "</table>\n",
       "</div>"
      ],
      "text/plain": [
       "        Customer ID  Product Price       Quantity  Total Purchase Amount  \\\n",
       "count  250000.00000  250000.000000  250000.000000          250000.000000   \n",
       "mean    25004.03624     254.659512       2.998896            2725.370732   \n",
       "std     14428.27959     141.568577       1.414694            1442.933565   \n",
       "min         1.00000      10.000000       1.000000             100.000000   \n",
       "25%     12497.75000     132.000000       2.000000            1477.000000   \n",
       "50%     25018.00000     255.000000       3.000000            2724.000000   \n",
       "75%     37506.00000     377.000000       4.000000            3974.000000   \n",
       "max     50000.00000     500.000000       5.000000            5350.000000   \n",
       "\n",
       "        Customer Age        Returns            Age          Churn  \n",
       "count  250000.000000  202404.000000  250000.000000  250000.000000  \n",
       "mean       43.940528       0.497861      43.940528       0.199496  \n",
       "std        15.350246       0.499997      15.350246       0.399622  \n",
       "min        18.000000       0.000000      18.000000       0.000000  \n",
       "25%        31.000000       0.000000      31.000000       0.000000  \n",
       "50%        44.000000       0.000000      44.000000       0.000000  \n",
       "75%        57.000000       1.000000      57.000000       0.000000  \n",
       "max        70.000000       1.000000      70.000000       1.000000  "
      ]
     },
     "execution_count": 9,
     "metadata": {},
     "output_type": "execute_result"
    }
   ],
   "source": [
    "E.describe()"
   ]
  },
  {
   "cell_type": "code",
   "execution_count": null,
   "id": "d31a127f-e18d-40af-b825-1099cf1b01a2",
   "metadata": {},
   "outputs": [],
   "source": []
  },
  {
   "cell_type": "code",
   "execution_count": 11,
   "id": "b232b32a-f260-4e72-b6af-43a2915b2488",
   "metadata": {},
   "outputs": [
    {
     "name": "stdout",
     "output_type": "stream",
     "text": [
      "<class 'pandas.core.frame.DataFrame'>\n",
      "RangeIndex: 250000 entries, 0 to 249999\n",
      "Data columns (total 13 columns):\n",
      " #   Column                 Non-Null Count   Dtype  \n",
      "---  ------                 --------------   -----  \n",
      " 0   Customer ID            250000 non-null  int64  \n",
      " 1   Purchase Date          250000 non-null  object \n",
      " 2   Product Category       250000 non-null  object \n",
      " 3   Product Price          250000 non-null  int64  \n",
      " 4   Quantity               250000 non-null  int64  \n",
      " 5   Total Purchase Amount  250000 non-null  int64  \n",
      " 6   Payment Method         250000 non-null  object \n",
      " 7   Customer Age           250000 non-null  int64  \n",
      " 8   Returns                202404 non-null  float64\n",
      " 9   Customer Name          250000 non-null  object \n",
      " 10  Age                    250000 non-null  int64  \n",
      " 11  Gender                 250000 non-null  object \n",
      " 12  Churn                  250000 non-null  int64  \n",
      "dtypes: float64(1), int64(7), object(5)\n",
      "memory usage: 24.8+ MB\n"
     ]
    }
   ],
   "source": [
    "E.info()"
   ]
  },
  {
   "cell_type": "code",
   "execution_count": null,
   "id": "a97f5133-ffd7-49c8-9bec-a97ecbd45cf2",
   "metadata": {},
   "outputs": [],
   "source": []
  },
  {
   "cell_type": "code",
   "execution_count": 13,
   "id": "85c9f222-d815-4b2f-8776-583734123e80",
   "metadata": {},
   "outputs": [
    {
     "data": {
      "text/plain": [
       "Customer ID              False\n",
       "Purchase Date            False\n",
       "Product Category         False\n",
       "Product Price            False\n",
       "Quantity                 False\n",
       "Total Purchase Amount    False\n",
       "Payment Method           False\n",
       "Customer Age             False\n",
       "Returns                   True\n",
       "Customer Name            False\n",
       "Age                      False\n",
       "Gender                   False\n",
       "Churn                    False\n",
       "dtype: bool"
      ]
     },
     "execution_count": 13,
     "metadata": {},
     "output_type": "execute_result"
    }
   ],
   "source": [
    "E.isna().any()\n"
   ]
  },
  {
   "cell_type": "code",
   "execution_count": null,
   "id": "34131c91-03f8-4b35-b60c-2eb1be796d82",
   "metadata": {},
   "outputs": [],
   "source": []
  },
  {
   "cell_type": "code",
   "execution_count": 15,
   "id": "6dee3740-43ac-45ff-9ab8-259bee3564e2",
   "metadata": {},
   "outputs": [
    {
     "data": {
      "text/plain": [
       "Customer ID                  0\n",
       "Purchase Date                0\n",
       "Product Category             0\n",
       "Product Price                0\n",
       "Quantity                     0\n",
       "Total Purchase Amount        0\n",
       "Payment Method               0\n",
       "Customer Age                 0\n",
       "Returns                  47596\n",
       "Customer Name                0\n",
       "Age                          0\n",
       "Gender                       0\n",
       "Churn                        0\n",
       "dtype: int64"
      ]
     },
     "execution_count": 15,
     "metadata": {},
     "output_type": "execute_result"
    }
   ],
   "source": [
    "E.isna().sum()"
   ]
  },
  {
   "cell_type": "code",
   "execution_count": null,
   "id": "b7cb3347-613a-4bf6-99f5-05cc02f72501",
   "metadata": {},
   "outputs": [],
   "source": []
  },
  {
   "cell_type": "code",
   "execution_count": 17,
   "id": "b9319325-1a4e-468d-b0f9-a19ad4aff50c",
   "metadata": {},
   "outputs": [],
   "source": [
    "Median = E[\"Returns\"].mean()"
   ]
  },
  {
   "cell_type": "code",
   "execution_count": 19,
   "id": "176c1fc6-308d-4dc2-b9bc-2cfba3afce0e",
   "metadata": {},
   "outputs": [
    {
     "data": {
      "text/plain": [
       "0.4978607142151341"
      ]
     },
     "execution_count": 19,
     "metadata": {},
     "output_type": "execute_result"
    }
   ],
   "source": [
    "Median"
   ]
  },
  {
   "cell_type": "code",
   "execution_count": 21,
   "id": "245c0378-b6c6-493e-9ad4-96e69fe43a7e",
   "metadata": {},
   "outputs": [],
   "source": [
    "M = E.fillna(Median)"
   ]
  },
  {
   "cell_type": "code",
   "execution_count": 23,
   "id": "a0dc3e4c-9542-448b-9c96-393185371dff",
   "metadata": {},
   "outputs": [
    {
     "data": {
      "text/plain": [
       "Customer ID              0\n",
       "Purchase Date            0\n",
       "Product Category         0\n",
       "Product Price            0\n",
       "Quantity                 0\n",
       "Total Purchase Amount    0\n",
       "Payment Method           0\n",
       "Customer Age             0\n",
       "Returns                  0\n",
       "Customer Name            0\n",
       "Age                      0\n",
       "Gender                   0\n",
       "Churn                    0\n",
       "dtype: int64"
      ]
     },
     "execution_count": 23,
     "metadata": {},
     "output_type": "execute_result"
    }
   ],
   "source": [
    "M.isna().sum()"
   ]
  },
  {
   "cell_type": "code",
   "execution_count": null,
   "id": "58e2badc-a446-45db-8823-679c8ab57ee4",
   "metadata": {},
   "outputs": [],
   "source": []
  },
  {
   "cell_type": "markdown",
   "id": "e8872bb6-b1d0-4657-9e7d-70101acc3519",
   "metadata": {},
   "source": [
    "## Questions\n",
    "1) What are the trends in total purchase amount over time (based on Purchase Date)? Are there any seasonal patterns?\n",
    "2) Which product categories generate the highest revenue and which are the most popular based on quantity purchased?\n",
    "3) What are the most popular payment methods, and how do they relate to the total purchase amount or frequency of purchases?\n",
    "4)  Who are the top customers by total purchase amount or frequency, based on Customer ID and Customer Name?"
   ]
  },
  {
   "cell_type": "markdown",
   "id": "8b8fa86f-df24-4481-8474-8595841127a8",
   "metadata": {},
   "source": [
    "## What are the trends in total purchase amount over time (based on Purchase Date) Are there any seasonal patterns"
   ]
  },
  {
   "cell_type": "code",
   "execution_count": 25,
   "id": "a5b2e4ad-891b-40fb-aefa-b51f1c1cecb3",
   "metadata": {},
   "outputs": [],
   "source": [
    "Ex = E.groupby(\"Purchase Date\")[\"Total Purchase Amount\"].sum().reset_index()"
   ]
  },
  {
   "cell_type": "code",
   "execution_count": 27,
   "id": "a87386b2-01ff-4052-b48b-0a515fb19fea",
   "metadata": {},
   "outputs": [],
   "source": [
    "Ex1 = Ex.sort_values(\"Total Purchase Amount\",ascending = False)"
   ]
  },
  {
   "cell_type": "code",
   "execution_count": 29,
   "id": "e764ea9a-10c7-4a73-8bf9-846dc6eab29d",
   "metadata": {},
   "outputs": [
    {
     "data": {
      "text/html": [
       "<div>\n",
       "<style scoped>\n",
       "    .dataframe tbody tr th:only-of-type {\n",
       "        vertical-align: middle;\n",
       "    }\n",
       "\n",
       "    .dataframe tbody tr th {\n",
       "        vertical-align: top;\n",
       "    }\n",
       "\n",
       "    .dataframe thead th {\n",
       "        text-align: right;\n",
       "    }\n",
       "</style>\n",
       "<table border=\"1\" class=\"dataframe\">\n",
       "  <thead>\n",
       "    <tr style=\"text-align: right;\">\n",
       "      <th></th>\n",
       "      <th>Purchase Date</th>\n",
       "      <th>Total Purchase Amount</th>\n",
       "    </tr>\n",
       "  </thead>\n",
       "  <tbody>\n",
       "    <tr>\n",
       "      <th>146474</th>\n",
       "      <td>2022-03-03 16:35:24</td>\n",
       "      <td>9949</td>\n",
       "    </tr>\n",
       "    <tr>\n",
       "      <th>141779</th>\n",
       "      <td>2022-02-06 17:18:39</td>\n",
       "      <td>9823</td>\n",
       "    </tr>\n",
       "    <tr>\n",
       "      <th>10325</th>\n",
       "      <td>2020-02-26 00:41:53</td>\n",
       "      <td>9817</td>\n",
       "    </tr>\n",
       "    <tr>\n",
       "      <th>44182</th>\n",
       "      <td>2020-08-27 01:16:52</td>\n",
       "      <td>9795</td>\n",
       "    </tr>\n",
       "    <tr>\n",
       "      <th>146705</th>\n",
       "      <td>2022-03-05 01:02:19</td>\n",
       "      <td>9621</td>\n",
       "    </tr>\n",
       "    <tr>\n",
       "      <th>...</th>\n",
       "      <td>...</td>\n",
       "      <td>...</td>\n",
       "    </tr>\n",
       "    <tr>\n",
       "      <th>18089</th>\n",
       "      <td>2020-04-08 07:29:51</td>\n",
       "      <td>105</td>\n",
       "    </tr>\n",
       "    <tr>\n",
       "      <th>215386</th>\n",
       "      <td>2023-03-13 18:48:00</td>\n",
       "      <td>103</td>\n",
       "    </tr>\n",
       "    <tr>\n",
       "      <th>197630</th>\n",
       "      <td>2022-12-07 03:33:30</td>\n",
       "      <td>101</td>\n",
       "    </tr>\n",
       "    <tr>\n",
       "      <th>40407</th>\n",
       "      <td>2020-08-06 16:14:43</td>\n",
       "      <td>100</td>\n",
       "    </tr>\n",
       "    <tr>\n",
       "      <th>134589</th>\n",
       "      <td>2021-12-29 20:38:06</td>\n",
       "      <td>100</td>\n",
       "    </tr>\n",
       "  </tbody>\n",
       "</table>\n",
       "<p>249736 rows × 2 columns</p>\n",
       "</div>"
      ],
      "text/plain": [
       "              Purchase Date  Total Purchase Amount\n",
       "146474  2022-03-03 16:35:24                   9949\n",
       "141779  2022-02-06 17:18:39                   9823\n",
       "10325   2020-02-26 00:41:53                   9817\n",
       "44182   2020-08-27 01:16:52                   9795\n",
       "146705  2022-03-05 01:02:19                   9621\n",
       "...                     ...                    ...\n",
       "18089   2020-04-08 07:29:51                    105\n",
       "215386  2023-03-13 18:48:00                    103\n",
       "197630  2022-12-07 03:33:30                    101\n",
       "40407   2020-08-06 16:14:43                    100\n",
       "134589  2021-12-29 20:38:06                    100\n",
       "\n",
       "[249736 rows x 2 columns]"
      ]
     },
     "execution_count": 29,
     "metadata": {},
     "output_type": "execute_result"
    }
   ],
   "source": [
    "Ex1"
   ]
  },
  {
   "cell_type": "code",
   "execution_count": null,
   "id": "0c0d95e5-f20f-40c1-988b-3f74ada763be",
   "metadata": {},
   "outputs": [],
   "source": []
  },
  {
   "cell_type": "markdown",
   "id": "5962938e-4fb3-494d-90cb-8dfbfb268110",
   "metadata": {},
   "source": [
    "## Which product categories generate the highest revenue and which are the most popular based on quantity purchased"
   ]
  },
  {
   "cell_type": "code",
   "execution_count": null,
   "id": "ebc63dd4-2226-4909-9333-0fe21d261320",
   "metadata": {},
   "outputs": [],
   "source": []
  },
  {
   "cell_type": "code",
   "execution_count": 31,
   "id": "c29e4644-b396-4723-97ce-c8f1bec8a98f",
   "metadata": {},
   "outputs": [],
   "source": [
    "A=E.groupby(\"Product Category\")[\"Product Price\"].sum().reset_index()"
   ]
  },
  {
   "cell_type": "code",
   "execution_count": null,
   "id": "ac8f1f61-c69c-4d14-bd08-63e4c556a809",
   "metadata": {},
   "outputs": [],
   "source": []
  },
  {
   "cell_type": "code",
   "execution_count": 33,
   "id": "33bb1863-44eb-4158-b921-3f85cf2d8450",
   "metadata": {},
   "outputs": [],
   "source": [
    "sorte = A.sort_values(\"Product Price\", ascending=False)"
   ]
  },
  {
   "cell_type": "code",
   "execution_count": 35,
   "id": "1b18f7be-3d03-408a-9362-b31084094ec4",
   "metadata": {},
   "outputs": [
    {
     "data": {
      "text/html": [
       "<div>\n",
       "<style scoped>\n",
       "    .dataframe tbody tr th:only-of-type {\n",
       "        vertical-align: middle;\n",
       "    }\n",
       "\n",
       "    .dataframe tbody tr th {\n",
       "        vertical-align: top;\n",
       "    }\n",
       "\n",
       "    .dataframe thead th {\n",
       "        text-align: right;\n",
       "    }\n",
       "</style>\n",
       "<table border=\"1\" class=\"dataframe\">\n",
       "  <thead>\n",
       "    <tr style=\"text-align: right;\">\n",
       "      <th></th>\n",
       "      <th>Product Category</th>\n",
       "      <th>Product Price</th>\n",
       "    </tr>\n",
       "  </thead>\n",
       "  <tbody>\n",
       "    <tr>\n",
       "      <th>1</th>\n",
       "      <td>Clothing</td>\n",
       "      <td>19096701</td>\n",
       "    </tr>\n",
       "    <tr>\n",
       "      <th>0</th>\n",
       "      <td>Books</td>\n",
       "      <td>19080772</td>\n",
       "    </tr>\n",
       "    <tr>\n",
       "      <th>2</th>\n",
       "      <td>Electronics</td>\n",
       "      <td>12783292</td>\n",
       "    </tr>\n",
       "    <tr>\n",
       "      <th>3</th>\n",
       "      <td>Home</td>\n",
       "      <td>12704113</td>\n",
       "    </tr>\n",
       "  </tbody>\n",
       "</table>\n",
       "</div>"
      ],
      "text/plain": [
       "  Product Category  Product Price\n",
       "1         Clothing       19096701\n",
       "0            Books       19080772\n",
       "2      Electronics       12783292\n",
       "3             Home       12704113"
      ]
     },
     "execution_count": 35,
     "metadata": {},
     "output_type": "execute_result"
    }
   ],
   "source": [
    "sorte"
   ]
  },
  {
   "cell_type": "code",
   "execution_count": 37,
   "id": "799d4a95-65dd-4630-9c72-351fbdd404c7",
   "metadata": {},
   "outputs": [
    {
     "data": {
      "image/png": "[encoded data removed]",
      "text/plain": [
       "<Figure size 640x480 with 1 Axes>"
      ]
     },
     "metadata": {},
     "output_type": "display_data"
    }
   ],
   "source": [
    "sns.barplot(data = sorte,x = \"Product Category\",y = \"Product Price\",hue = \"Product Price\")\n",
    "plt.title(\"Product Categories with the Highest Revenue\")\n",
    "plt.show()"
   ]
  },
  {
   "cell_type": "code",
   "execution_count": null,
   "id": "e77afce1-1311-485b-9aac-c6d3b0fa7d6d",
   "metadata": {},
   "outputs": [],
   "source": []
  },
  {
   "cell_type": "code",
   "execution_count": null,
   "id": "4ac5b80a-b16e-4433-9906-94d92030c8b1",
   "metadata": {},
   "outputs": [],
   "source": []
  },
  {
   "cell_type": "markdown",
   "id": "039ac938-5080-4749-8422-888b2fba56c3",
   "metadata": {},
   "source": [
    "## What are the most popular payment methods, and how do they relate to the total purchase amount or frequency of purchases."
   ]
  },
  {
   "cell_type": "code",
   "execution_count": null,
   "id": "ef75bf2b-3c33-4e7a-94fa-a91cda97f809",
   "metadata": {},
   "outputs": [],
   "source": []
  },
  {
   "cell_type": "code",
   "execution_count": 39,
   "id": "990fe63c-4b55-474d-80a2-6972c187aa80",
   "metadata": {},
   "outputs": [
    {
     "data": {
      "text/html": [
       "<div>\n",
       "<style scoped>\n",
       "    .dataframe tbody tr th:only-of-type {\n",
       "        vertical-align: middle;\n",
       "    }\n",
       "\n",
       "    .dataframe tbody tr th {\n",
       "        vertical-align: top;\n",
       "    }\n",
       "\n",
       "    .dataframe thead th {\n",
       "        text-align: right;\n",
       "    }\n",
       "</style>\n",
       "<table border=\"1\" class=\"dataframe\">\n",
       "  <thead>\n",
       "    <tr style=\"text-align: right;\">\n",
       "      <th></th>\n",
       "      <th>Payment Method</th>\n",
       "      <th>Total Purchase Amount</th>\n",
       "    </tr>\n",
       "  </thead>\n",
       "  <tbody>\n",
       "    <tr>\n",
       "      <th>1</th>\n",
       "      <td>Credit Card</td>\n",
       "      <td>274152396</td>\n",
       "    </tr>\n",
       "    <tr>\n",
       "      <th>3</th>\n",
       "      <td>PayPal</td>\n",
       "      <td>204026613</td>\n",
       "    </tr>\n",
       "    <tr>\n",
       "      <th>0</th>\n",
       "      <td>Cash</td>\n",
       "      <td>135705551</td>\n",
       "    </tr>\n",
       "    <tr>\n",
       "      <th>2</th>\n",
       "      <td>Crypto</td>\n",
       "      <td>67458123</td>\n",
       "    </tr>\n",
       "  </tbody>\n",
       "</table>\n",
       "</div>"
      ],
      "text/plain": [
       "  Payment Method  Total Purchase Amount\n",
       "1    Credit Card              274152396\n",
       "3         PayPal              204026613\n",
       "0           Cash              135705551\n",
       "2         Crypto               67458123"
      ]
     },
     "execution_count": 39,
     "metadata": {},
     "output_type": "execute_result"
    }
   ],
   "source": [
    "d = E.groupby(\"Payment Method\")[\"Total Purchase Amount\"].sum().reset_index()\n",
    "sorte = d.sort_values(\"Total Purchase Amount\",ascending = False)\n",
    "sorte"
   ]
  },
  {
   "cell_type": "code",
   "execution_count": null,
   "id": "e177ac03-ee0c-4f66-9146-b19feba4ef1a",
   "metadata": {},
   "outputs": [],
   "source": []
  },
  {
   "cell_type": "code",
   "execution_count": 41,
   "id": "c86151e3-39ac-4638-95ff-94201ee83e4d",
   "metadata": {},
   "outputs": [
    {
     "data": {
      "image/png": "[encoded data removed]",
      "text/plain": [
       "<Figure size 640x480 with 1 Axes>"
      ]
     },
     "metadata": {},
     "output_type": "display_data"
    }
   ],
   "source": [
    "sns.barplot(data = sorte,x = \"Payment Method\",y = \"Total Purchase Amount\",hue = \"Total Purchase Amount\")\n",
    "plt.title(\"Most Popular Payment Methods Relate To The Total Purchase Amount\")\n",
    "plt.show()"
   ]
  },
  {
   "cell_type": "code",
   "execution_count": null,
   "id": "736ab726-22ea-459c-b6ce-ba056e4ae755",
   "metadata": {},
   "outputs": [],
   "source": []
  },
  {
   "cell_type": "markdown",
   "id": "1b53610e-50ff-4cdc-b403-9c55ac3f6928",
   "metadata": {},
   "source": [
    "## Who are the top customers by total purchase amount or frequency, based on Customer ID and Customer Name"
   ]
  },
  {
   "cell_type": "code",
   "execution_count": null,
   "id": "092fa7c6-d810-4f88-b49e-529973f037de",
   "metadata": {},
   "outputs": [],
   "source": []
  },
  {
   "cell_type": "code",
   "execution_count": 43,
   "id": "92feda69-847b-4662-8b0d-1263869ae300",
   "metadata": {},
   "outputs": [
    {
     "data": {
      "text/html": [
       "<div>\n",
       "<style scoped>\n",
       "    .dataframe tbody tr th:only-of-type {\n",
       "        vertical-align: middle;\n",
       "    }\n",
       "\n",
       "    .dataframe tbody tr th {\n",
       "        vertical-align: top;\n",
       "    }\n",
       "\n",
       "    .dataframe thead th {\n",
       "        text-align: right;\n",
       "    }\n",
       "</style>\n",
       "<table border=\"1\" class=\"dataframe\">\n",
       "  <thead>\n",
       "    <tr style=\"text-align: right;\">\n",
       "      <th></th>\n",
       "      <th>Customer ID</th>\n",
       "      <th>Total Purchase Amount</th>\n",
       "    </tr>\n",
       "  </thead>\n",
       "  <tbody>\n",
       "    <tr>\n",
       "      <th>36211</th>\n",
       "      <td>36437</td>\n",
       "      <td>55339</td>\n",
       "    </tr>\n",
       "    <tr>\n",
       "      <th>39561</th>\n",
       "      <td>39817</td>\n",
       "      <td>51718</td>\n",
       "    </tr>\n",
       "    <tr>\n",
       "      <th>26818</th>\n",
       "      <td>26977</td>\n",
       "      <td>48497</td>\n",
       "    </tr>\n",
       "    <tr>\n",
       "      <th>5809</th>\n",
       "      <td>5844</td>\n",
       "      <td>46541</td>\n",
       "    </tr>\n",
       "    <tr>\n",
       "      <th>3555</th>\n",
       "      <td>3576</td>\n",
       "      <td>46518</td>\n",
       "    </tr>\n",
       "    <tr>\n",
       "      <th>...</th>\n",
       "      <td>...</td>\n",
       "      <td>...</td>\n",
       "    </tr>\n",
       "    <tr>\n",
       "      <th>37138</th>\n",
       "      <td>37371</td>\n",
       "      <td>167</td>\n",
       "    </tr>\n",
       "    <tr>\n",
       "      <th>33040</th>\n",
       "      <td>33238</td>\n",
       "      <td>162</td>\n",
       "    </tr>\n",
       "    <tr>\n",
       "      <th>13215</th>\n",
       "      <td>13297</td>\n",
       "      <td>157</td>\n",
       "    </tr>\n",
       "    <tr>\n",
       "      <th>1374</th>\n",
       "      <td>1382</td>\n",
       "      <td>153</td>\n",
       "    </tr>\n",
       "    <tr>\n",
       "      <th>47585</th>\n",
       "      <td>47899</td>\n",
       "      <td>110</td>\n",
       "    </tr>\n",
       "  </tbody>\n",
       "</table>\n",
       "<p>49673 rows × 2 columns</p>\n",
       "</div>"
      ],
      "text/plain": [
       "       Customer ID  Total Purchase Amount\n",
       "36211        36437                  55339\n",
       "39561        39817                  51718\n",
       "26818        26977                  48497\n",
       "5809          5844                  46541\n",
       "3555          3576                  46518\n",
       "...            ...                    ...\n",
       "37138        37371                    167\n",
       "33040        33238                    162\n",
       "13215        13297                    157\n",
       "1374          1382                    153\n",
       "47585        47899                    110\n",
       "\n",
       "[49673 rows x 2 columns]"
      ]
     },
     "execution_count": 43,
     "metadata": {},
     "output_type": "execute_result"
    }
   ],
   "source": [
    "D = E.groupby(\"Customer ID\")[\"Total Purchase Amount\"].sum().reset_index()\n",
    "sorted = D.sort_values(\"Total Purchase Amount\",ascending = False)\n",
    "sorted"
   ]
  },
  {
   "cell_type": "code",
   "execution_count": 45,
   "id": "9386bad1-a33b-4af8-9c58-84e10926d597",
   "metadata": {},
   "outputs": [
    {
     "data": {
      "text/plain": [
       "<Axes: xlabel='Customer ID', ylabel='Total Purchase Amount'>"
      ]
     },
     "execution_count": 45,
     "metadata": {},
     "output_type": "execute_result"
    },
    {
     "data": {
      "image/png": "[encoded data removed]",
      "text/plain": [
       "<Figure size 640x480 with 1 Axes>"
      ]
     },
     "metadata": {},
     "output_type": "display_data"
    }
   ],
   "source": [
    "sns.barplot(data = sorted,x=\"Customer ID\",y=\"Total Purchase Amount\")"
   ]
  },
  {
   "cell_type": "code",
   "execution_count": null,
   "id": "f327d5ff-d1e2-46db-a5b7-0d6e93997319",
   "metadata": {},
   "outputs": [],
   "source": []
  },
  {
   "cell_type": "code",
   "execution_count": 46,
   "id": "0fd1ef6e-5b4b-4c2f-9769-0da706a1cfa7",
   "metadata": {},
   "outputs": [
    {
     "data": {
      "text/plain": [
       "<Axes: xlabel='Total Purchase Amount', ylabel='Customer ID'>"
      ]
     },
     "execution_count": 46,
     "metadata": {},
     "output_type": "execute_result"
    },
    {
     "data": {
      "image/png": "[encoded data removed]",
      "text/plain": [
       "<Figure size 640x480 with 1 Axes>"
      ]
     },
     "metadata": {},
     "output_type": "display_data"
    }
   ],
   "source": [
    "sns.barplot(data = sorted,x=\"Total Purchase Amount\",y=\"Customer ID\")"
   ]
  },
  {
   "cell_type": "code",
   "execution_count": null,
   "id": "f2ccb548-7afa-44fb-8afb-28e7fcb6f591",
   "metadata": {},
   "outputs": [],
   "source": []
  }
 ],
 "metadata": {
  "kernelspec": {
   "display_name": "Python 3 (ipykernel)",
   "language": "python",
   "name": "python3"
  },
  "language_info": {
   "codemirror_mode": {
    "name": "ipython",
    "version": 3
   },
   "file_extension": ".py",
   "mimetype": "text/x-python",
   "name": "python",
   "nbconvert_exporter": "python",
   "pygments_lexer": "ipython3",
   "version": "3.12.4"
  }
 },
 "nbformat": 4,
 "nbformat_minor": 5
}
